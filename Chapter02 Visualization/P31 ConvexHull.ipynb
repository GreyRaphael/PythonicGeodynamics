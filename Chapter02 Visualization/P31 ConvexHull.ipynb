{
 "cells": [
  {
   "cell_type": "markdown",
   "metadata": {},
   "source": [
    "### 2d example"
   ]
  },
  {
   "cell_type": "code",
   "execution_count": 1,
   "metadata": {},
   "outputs": [],
   "source": [
    "from scipy.spatial import ConvexHull\n",
    "from scipy.spatial import convex_hull_plot_2d\n",
    "import matplotlib.pyplot as plt\n",
    "from ipywidgets import interact\n",
    "import numpy as np\n",
    "\n",
    "# 来自黄金分割, 用螺旋形靠近圆或者球的边界\n",
    "increment=np.pi*(3-5**0.5)"
   ]
  },
  {
   "cell_type": "code",
   "execution_count": 2,
   "metadata": {},
   "outputs": [
    {
     "data": {
      "application/vnd.jupyter.widget-view+json": {
       "model_id": "f7e766bec7dc4126b7b24c813da903d9",
       "version_major": 2,
       "version_minor": 0
      },
      "text/plain": [
       "interactive(children=(IntSlider(value=3, description='n', max=5, min=1), Output()), _dom_classes=('widget-inte…"
      ]
     },
     "metadata": {},
     "output_type": "display_data"
    }
   ],
   "source": [
    "@interact\n",
    "def plot_hull(n=(1, 5)):\n",
    "    N=5**n\n",
    "    points=np.zeros((N, 2))\n",
    "    \n",
    "    phi=np.arange(0, N*increment, increment)\n",
    "    \n",
    "    # this is better\n",
    "    x=(1+2*np.arange(N))/N -1\n",
    "    # x=np.linspace(-1, 1, N)\n",
    "    \n",
    "    points[:, 0]=x\n",
    "    r=(1-x**2)**0.5\n",
    "    points[:, 1]=r * np.sin(phi)\n",
    "    \n",
    "    hull=ConvexHull(points)\n",
    "    fig=convex_hull_plot_2d(hull)\n",
    "    plt.gca().set_aspect('equal')"
   ]
  },
  {
   "cell_type": "markdown",
   "metadata": {},
   "source": [
    "### 3d example"
   ]
  },
  {
   "cell_type": "code",
   "execution_count": 3,
   "metadata": {},
   "outputs": [],
   "source": [
    "N=5000\n",
    "increment=np.pi*(3-5**0.5)\n",
    "points=np.zeros((N, 3))"
   ]
  },
  {
   "cell_type": "code",
   "execution_count": 4,
   "metadata": {},
   "outputs": [],
   "source": [
    "phi=np.arange(0, N*increment, increment)\n",
    "temp=(1+2*np.arange(N))/N -1\n",
    "\n",
    "points[:, 1]=temp\n",
    "r=(1-temp**2)**0.5\n",
    "points[:, 0]=np.cos(phi)*r\n",
    "points[:, 2]=np.sin(phi)*r\n",
    "\n",
    "hull=ConvexHull(points)"
   ]
  }
 ],
 "metadata": {
  "kernelspec": {
   "display_name": "Python 3",
   "language": "python",
   "name": "python3"
  },
  "language_info": {
   "codemirror_mode": {
    "name": "ipython",
    "version": 3
   },
   "file_extension": ".py",
   "mimetype": "text/x-python",
   "name": "python",
   "nbconvert_exporter": "python",
   "pygments_lexer": "ipython3",
   "version": "3.6.6"
  }
 },
 "nbformat": 4,
 "nbformat_minor": 2
}
