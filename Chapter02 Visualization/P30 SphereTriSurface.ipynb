{
 "cells": [
  {
   "cell_type": "code",
   "execution_count": 1,
   "metadata": {},
   "outputs": [],
   "source": [
    "from scipy.spatial import ConvexHull\n",
    "import numpy as np"
   ]
  },
  {
   "cell_type": "code",
   "execution_count": 2,
   "metadata": {},
   "outputs": [],
   "source": [
    "N=500\n",
    "increment=np.pi*(3-5**0.5)\n",
    "points=np.zeros((N, 3))"
   ]
  },
  {
   "cell_type": "code",
   "execution_count": 3,
   "metadata": {},
   "outputs": [
    {
     "name": "stdout",
     "output_type": "stream",
     "text": [
      "(996, 3)\n",
      "(500, 3)\n"
     ]
    }
   ],
   "source": [
    "phi=np.arange(0, N*increment, increment)\n",
    "temp=(1+2*np.arange(N))/N -1\n",
    "\n",
    "points[:, 1]=temp\n",
    "r=(1-temp**2)**0.5\n",
    "points[:, 0]=np.cos(phi)*r\n",
    "points[:, 2]=np.sin(phi)*r\n",
    "\n",
    "hull=ConvexHull(points)\n",
    "print(hull.simplices.shape)\n",
    "print(hull.points.shape)"
   ]
  },
  {
   "cell_type": "code",
   "execution_count": 4,
   "metadata": {},
   "outputs": [],
   "source": [
    "def writeVTKSurface(outFileName, x, y, z, triangles):\n",
    "    nodes_number=x.size\n",
    "    triangles_number=triangles.size//3\n",
    "    \n",
    "    file=open(outFileName, 'w')\n",
    "    file.write('# vtk DataFile Version 2.0\\n')\n",
    "    file.write('Moebius surface\\n')\n",
    "    file.write('ASCII\\n')\n",
    "    file.write('DATASET POLYDATA\\n')\n",
    "    \n",
    "    file.write(f'POINTS {nodes_number} float\\n')\n",
    "    for i in range(nodes_number):\n",
    "        file.write(f'{x[i]} {y[i]} {z[i]} \\n')\n",
    "    \n",
    "    file.write(f'POLYGONS {triangles_number} {triangles_number*4} \\n')\n",
    "    for i in range(triangles_number):\n",
    "        file.write(f'3 {triangles[i, 0]} {triangles[i, 1]} {triangles[i, 2]} \\n')\n",
    "    file.close()"
   ]
  },
  {
   "cell_type": "code",
   "execution_count": 5,
   "metadata": {},
   "outputs": [],
   "source": [
    "x,y,z=hull.points.T"
   ]
  },
  {
   "cell_type": "code",
   "execution_count": 6,
   "metadata": {},
   "outputs": [],
   "source": [
    "writeVTKSurface('sphere.vtk',x ,y, z,hull.simplices)"
   ]
  }
 ],
 "metadata": {
  "kernelspec": {
   "display_name": "Python 3",
   "language": "python",
   "name": "python3"
  },
  "language_info": {
   "codemirror_mode": {
    "name": "ipython",
    "version": 3
   },
   "file_extension": ".py",
   "mimetype": "text/x-python",
   "name": "python",
   "nbconvert_exporter": "python",
   "pygments_lexer": "ipython3",
   "version": "3.6.6"
  }
 },
 "nbformat": 4,
 "nbformat_minor": 2
}
