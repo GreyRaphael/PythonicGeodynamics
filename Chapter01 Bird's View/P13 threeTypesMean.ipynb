{
 "cells": [
  {
   "cell_type": "code",
   "execution_count": 1,
   "metadata": {},
   "outputs": [],
   "source": [
    "import numpy as np\n",
    "from ipywidgets import interact"
   ]
  },
  {
   "cell_type": "code",
   "execution_count": 2,
   "metadata": {},
   "outputs": [
    {
     "data": {
      "application/vnd.jupyter.widget-view+json": {
       "model_id": "3bfcc0fc597c4f6eb99ce332cb220a36",
       "version_major": 2,
       "version_minor": 0
      },
      "text/plain": [
       "interactive(children=(IntSlider(value=300, description='N', max=500, min=100, step=100), Output()), _dom_class…"
      ]
     },
     "metadata": {},
     "output_type": "display_data"
    }
   ],
   "source": [
    "@interact\n",
    "def compare_means(N=(100, 500, 100)):\n",
    "    data=np.random.rand(N)*10\n",
    "    # arithmetic mean\n",
    "    arith_mean=data.sum()/N\n",
    "    # geometric mean\n",
    "    geo_mean=data.prod()**(1/N)\n",
    "    # harmonic mean\n",
    "    harm_mean=N/np.sum(1/data)\n",
    "    print(geo_mean)\n",
    "    print(f'arithmetic mean = {arith_mean}')\n",
    "    print(f'geometric mean = {geo_mean}')\n",
    "    print(f'harmonic mean = {harm_mean}')"
   ]
  },
  {
   "cell_type": "markdown",
   "metadata": {},
   "source": [
    "So, `Arithmetic mean > Geometric mean > Harmonic mean`"
   ]
  }
 ],
 "metadata": {
  "kernelspec": {
   "display_name": "Python 3",
   "language": "python",
   "name": "python3"
  },
  "language_info": {
   "codemirror_mode": {
    "name": "ipython",
    "version": 3
   },
   "file_extension": ".py",
   "mimetype": "text/x-python",
   "name": "python",
   "nbconvert_exporter": "python",
   "pygments_lexer": "ipython3",
   "version": "3.6.6"
  }
 },
 "nbformat": 4,
 "nbformat_minor": 2
}
