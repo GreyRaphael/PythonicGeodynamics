{
 "cells": [
  {
   "cell_type": "code",
   "execution_count": 1,
   "metadata": {},
   "outputs": [
    {
     "name": "stdout",
     "output_type": "stream",
     "text": [
      "Overwriting simpleParalle.py\n"
     ]
    }
   ],
   "source": [
    "%%writefile simpleParalle.py\n",
    "\n",
    "from mpi4py import MPI\n",
    "import numpy as np\n",
    "\n",
    "comm=MPI.COMM_WORLD\n",
    "size=comm.Get_size()\n",
    "rank=comm.Get_rank()\n",
    "\n",
    "p=size # processors numbers\n",
    "n1, n2=4000, 4000\n",
    "n1Local=n1//p\n",
    "# each processor's array shape is (n1Local, n2)\n",
    "arr2dLocal=np.empty((n1Local, n2), dtype='float64')\n",
    "\n",
    "if rank==0:\n",
    "    arr2d=np.random.randn(n1,n2)\n",
    "    arr2dLocal=arr2d[:n1Local, :n2]\n",
    "    for i in range(1, p):\n",
    "        start=i*n1Local\n",
    "        end=(i+1)*n1Local\n",
    "        comm.Send(arr2d[start:end, :n2], dest=i, tag=11)\n",
    "        print(f'rank-{rank} have sent chunk-{i}')\n",
    "else:\n",
    "    comm.Recv(arr2dLocal, source=0, tag=11)\n",
    "\n",
    "# all processor will execute this statement\n",
    "arr2dLocal[arr2dLocal<0]=0\n",
    "print(f'rank-{rank} have set Negative to zero!')\n",
    "\n",
    "if rank==0:\n",
    "    arr2d[:n1Local, :n2]=arr2dLocal\n",
    "    for i in range(1, p):\n",
    "        start=i*n1Local\n",
    "        end=(i+1)*n1Local\n",
    "        comm.Recv(arr2d[start:end, :n2], source=i, tag=22)\n",
    "        print(f'rank-{rank} have received chunk-{i}')\n",
    "else:\n",
    "    comm.Send(arr2dLocal, dest=0, tag=22)"
   ]
  },
  {
   "cell_type": "code",
   "execution_count": 2,
   "metadata": {},
   "outputs": [
    {
     "name": "stdout",
     "output_type": "stream",
     "text": [
      "rank-1 have set Negative to zero!\n",
      "rank-2 have set Negative to zero!\n",
      "rank-3 have set Negative to zero!\n",
      "rank-4 have set Negative to zero!\n",
      "rank-5 have set Negative to zero!\n",
      "rank-6 have set Negative to zero!\n",
      "rank-7 have set Negative to zero!\n",
      "rank-0 have sent chunk-1\n",
      "rank-0 have sent chunk-2\n",
      "rank-0 have sent chunk-3\n",
      "rank-0 have sent chunk-4\n",
      "rank-0 have sent chunk-5\n",
      "rank-0 have sent chunk-6\n",
      "rank-0 have sent chunk-7\n",
      "rank-0 have set Negative to zero!\n",
      "rank-0 have received chunk-1\n",
      "rank-0 have received chunk-2\n",
      "rank-0 have received chunk-3\n",
      "rank-0 have received chunk-4\n",
      "rank-0 have received chunk-5\n",
      "rank-0 have received chunk-6\n",
      "rank-0 have received chunk-7\n",
      "Wall time: 846 ms\n"
     ]
    }
   ],
   "source": [
    "# 默认调用所有的cores\n",
    "%time !mpiexec.exe python simpleParalle.py\n",
    "# %time !mpiexec.exe -n python simpleParalle.py"
   ]
  },
  {
   "cell_type": "code",
   "execution_count": null,
   "metadata": {},
   "outputs": [],
   "source": []
  }
 ],
 "metadata": {
  "kernelspec": {
   "display_name": "Python 3",
   "language": "python",
   "name": "python3"
  },
  "language_info": {
   "codemirror_mode": {
    "name": "ipython",
    "version": 3
   },
   "file_extension": ".py",
   "mimetype": "text/x-python",
   "name": "python",
   "nbconvert_exporter": "python",
   "pygments_lexer": "ipython3",
   "version": "3.6.6"
  }
 },
 "nbformat": 4,
 "nbformat_minor": 2
}
