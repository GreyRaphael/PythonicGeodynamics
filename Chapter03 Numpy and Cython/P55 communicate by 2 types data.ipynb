{
 "cells": [
  {
   "cell_type": "markdown",
   "metadata": {},
   "source": [
    "### communicate by python object"
   ]
  },
  {
   "cell_type": "code",
   "execution_count": 1,
   "metadata": {},
   "outputs": [
    {
     "name": "stdout",
     "output_type": "stream",
     "text": [
      "Overwriting standardPyObj.py\n"
     ]
    }
   ],
   "source": [
    "%%writefile standardPyObj.py\n",
    "\n",
    "from mpi4py import MPI\n",
    "\n",
    "comm = MPI.COMM_WORLD\n",
    "rank = comm.Get_rank()\n",
    "\n",
    "if rank == 0:\n",
    "    data={'a':0.1, 'b':1, 'c':'house', 'd':1.0e100}\n",
    "    comm.send(data, dest=1, tag=111)\n",
    "    print(f'rank {rank} send data')\n",
    "elif rank == 1:\n",
    "    data = comm.recv(source=0, tag=111)\n",
    "    print(f'rank {rank} received data: {data}')"
   ]
  },
  {
   "cell_type": "code",
   "execution_count": 2,
   "metadata": {},
   "outputs": [
    {
     "name": "stdout",
     "output_type": "stream",
     "text": [
      "rank 0 send data\n",
      "rank 1 received data: {'a': 0.1, 'b': 1, 'c': 'house', 'd': 1e+100}\n"
     ]
    }
   ],
   "source": [
    "!mpiexec.exe -n 2 python standardPyObj.py"
   ]
  },
  {
   "cell_type": "markdown",
   "metadata": {},
   "source": [
    "### communicate by numpy object"
   ]
  },
  {
   "cell_type": "code",
   "execution_count": 3,
   "metadata": {},
   "outputs": [
    {
     "name": "stdout",
     "output_type": "stream",
     "text": [
      "Overwriting numpyObj.py\n"
     ]
    }
   ],
   "source": [
    "%%writefile numpyObj.py\n",
    "\n",
    "from mpi4py import MPI\n",
    "import numpy as np\n",
    "\n",
    "comm = MPI.COMM_WORLD\n",
    "rank = comm.Get_rank()\n",
    "\n",
    "if rank==0:\n",
    "    data=np.arange(10, dtype='float64')\n",
    "    comm.Send(data, dest=1, tag=13)\n",
    "    print(f'rank {rank} send np.float64 data')\n",
    "else:\n",
    "    data=np.empty(10, dtype='float64')\n",
    "    comm.Recv(data, source=0, tag=13)\n",
    "    print(f'rank {rank} received np.float64 data: {data}')"
   ]
  },
  {
   "cell_type": "code",
   "execution_count": 4,
   "metadata": {},
   "outputs": [
    {
     "name": "stdout",
     "output_type": "stream",
     "text": [
      "rank 0 send np.float64 data\n",
      "rank 1 received np.float64 data: [0. 1. 2. 3. 4. 5. 6. 7. 8. 9.]\n"
     ]
    }
   ],
   "source": [
    "!mpiexec.exe -n 2 python numpyObj.py"
   ]
  }
 ],
 "metadata": {
  "kernelspec": {
   "display_name": "Python 3",
   "language": "python",
   "name": "python3"
  },
  "language_info": {
   "codemirror_mode": {
    "name": "ipython",
    "version": 3
   },
   "file_extension": ".py",
   "mimetype": "text/x-python",
   "name": "python",
   "nbconvert_exporter": "python",
   "pygments_lexer": "ipython3",
   "version": "3.6.6"
  }
 },
 "nbformat": 4,
 "nbformat_minor": 2
}
